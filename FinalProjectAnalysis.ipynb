{
  "nbformat": 4,
  "nbformat_minor": 0,
  "metadata": {
    "colab": {
      "provenance": []
    },
    "kernelspec": {
      "name": "python3",
      "display_name": "Python 3"
    },
    "language_info": {
      "name": "python"
    }
  },
  "cells": [
    {
      "cell_type": "code",
      "execution_count": null,
      "metadata": {
        "id": "1MTFuKWzSREr"
      },
      "outputs": [],
      "source": [
        "import pandas as pd\n",
        "from sklearn.model_selection import train_test_split\n",
        "from sklearn import metrics\n",
        "import matplotlib.pyplot as plt\n",
        "import numpy as np\n",
        "import tensorflow as tf\n",
        "import tensorflow.keras\n",
        "from tensorflow import keras\n",
        "from tensorflow.keras.optimizers import Adam\n",
        "from keras.layers import BatchNormalization, Activation\n",
        "from tensorflow.keras import layers, models\n",
        "from sklearn.preprocessing import StandardScaler\n",
        "from sklearn.preprocessing import OneHotEncoder\n",
        "from sklearn.preprocessing import LabelEncoder\n",
        "from tensorflow.keras.utils import to_categorical\n",
        "from tensorflow.keras.optimizers import schedules\n",
        "from tensorflow.keras.callbacks import EarlyStopping\n",
        "from sklearn.metrics import precision_score, recall_score, f1_score\n"
      ]
    },
    {
      "cell_type": "code",
      "source": [
        "df = pd.read_csv('./merged_file_F1_data.csv')"
      ],
      "metadata": {
        "colab": {
          "base_uri": "https://localhost:8080/"
        },
        "id": "Wjt6O5fDSgli",
        "outputId": "eff4165f-10ef-4a41-a904-3648020ffd3c"
      },
      "execution_count": null,
      "outputs": [
        {
          "output_type": "stream",
          "name": "stderr",
          "text": [
            "<ipython-input-6-f63b05b4eff5>:1: DtypeWarning: Columns (21) have mixed types. Specify dtype option on import or set low_memory=False.\n",
            "  df = pd.read_csv('./merged_file_F1_data.csv')\n"
          ]
        }
      ]
    },
    {
      "cell_type": "code",
      "source": [
        "print(df['positionOrder'])"
      ],
      "metadata": {
        "colab": {
          "base_uri": "https://localhost:8080/"
        },
        "id": "gRuuVK0hAy2n",
        "outputId": "98267b99-c79a-48a3-cfe1-d9cc98c2d8d0"
      },
      "execution_count": null,
      "outputs": [
        {
          "output_type": "stream",
          "name": "stdout",
          "text": [
            "0         1\n",
            "1         2\n",
            "2         3\n",
            "3         4\n",
            "4         5\n",
            "         ..\n",
            "26075    16\n",
            "26076    17\n",
            "26077    18\n",
            "26078    19\n",
            "26079    20\n",
            "Name: positionOrder, Length: 26080, dtype: int64\n"
          ]
        }
      ]
    },
    {
      "cell_type": "code",
      "source": [
        "columns_to_delete = ['round', 'name', 'date', 'url', 'fp1_date', 'fp1_time', 'fp2_date', 'fp2_time', 'fp3_date', 'fp3_time', 'quali_date', 'quali_time', 'sprint_date', 'sprint_time', 'resultId', 'number', 'position', 'positionText','points', 'laps','milliseconds', 'fastestLap', 'rank', 'fastestLapTime', 'fastestLapSpeed', 'statusId', 'time_x', 'time_y']\n",
        "\n",
        "for column in columns_to_delete:\n",
        "    del df[column]\n",
        "\n",
        "columns = df.columns.tolist()\n",
        "print(columns)\n"
      ],
      "metadata": {
        "colab": {
          "base_uri": "https://localhost:8080/"
        },
        "id": "Op_uz1aASjnL",
        "outputId": "9473fcb4-9572-4270-9a25-635cc6aa86dc"
      },
      "execution_count": null,
      "outputs": [
        {
          "output_type": "stream",
          "name": "stdout",
          "text": [
            "['raceId', 'year', 'circuitId', 'driverId', 'constructorId', 'grid', 'positionOrder']\n"
          ]
        }
      ]
    },
    {
      "cell_type": "code",
      "source": [
        "df.loc[df['positionOrder'] > 3, 'positionOrder'] = 0"
      ],
      "metadata": {
        "id": "aLpVPTStBPGm"
      },
      "execution_count": null,
      "outputs": []
    },
    {
      "cell_type": "code",
      "source": [
        "position = df['positionOrder']\n",
        "print(position)"
      ],
      "metadata": {
        "colab": {
          "base_uri": "https://localhost:8080/"
        },
        "id": "5g6_sy_YAloa",
        "outputId": "7e5f425b-8afa-4751-9700-24546b4b7840"
      },
      "execution_count": null,
      "outputs": [
        {
          "output_type": "stream",
          "name": "stdout",
          "text": [
            "0        1\n",
            "1        2\n",
            "2        3\n",
            "3        0\n",
            "4        0\n",
            "        ..\n",
            "26075    0\n",
            "26076    0\n",
            "26077    0\n",
            "26078    0\n",
            "26079    0\n",
            "Name: positionOrder, Length: 26080, dtype: int64\n"
          ]
        }
      ]
    },
    {
      "cell_type": "code",
      "source": [
        "data_types = df.dtypes\n",
        "\n",
        "print(data_types)\n",
        "\n",
        "df"
      ],
      "metadata": {
        "colab": {
          "base_uri": "https://localhost:8080/",
          "height": 563
        },
        "id": "a-XcW2GOSnqw",
        "outputId": "24d57141-55d5-4da8-ed3d-d66970b758d9"
      },
      "execution_count": null,
      "outputs": [
        {
          "output_type": "stream",
          "name": "stdout",
          "text": [
            "raceId           int64\n",
            "year             int64\n",
            "circuitId        int64\n",
            "driverId         int64\n",
            "constructorId    int64\n",
            "grid             int64\n",
            "positionOrder    int64\n",
            "dtype: object\n"
          ]
        },
        {
          "output_type": "execute_result",
          "data": {
            "text/plain": [
              "       raceId  year  circuitId  driverId  constructorId  grid  positionOrder\n",
              "0           1  2009          1        18             23     1              1\n",
              "1           1  2009          1        22             23     2              2\n",
              "2           1  2009          1        15              7    20              3\n",
              "3           1  2009          1        10              7    19              0\n",
              "4           1  2009          1         4              4    10              0\n",
              "...       ...   ...        ...       ...            ...   ...            ...\n",
              "26075    1110  2023         13       817            213    19              0\n",
              "26076    1110  2023         13       858              3    18              0\n",
              "26077    1110  2023         13       807            210     0              0\n",
              "26078    1110  2023         13       832              6     4              0\n",
              "26079    1110  2023         13       857              1     5              0\n",
              "\n",
              "[26080 rows x 7 columns]"
            ],
            "text/html": [
              "\n",
              "  <div id=\"df-acad6573-4250-458b-a9a4-bda3d145a7ff\" class=\"colab-df-container\">\n",
              "    <div>\n",
              "<style scoped>\n",
              "    .dataframe tbody tr th:only-of-type {\n",
              "        vertical-align: middle;\n",
              "    }\n",
              "\n",
              "    .dataframe tbody tr th {\n",
              "        vertical-align: top;\n",
              "    }\n",
              "\n",
              "    .dataframe thead th {\n",
              "        text-align: right;\n",
              "    }\n",
              "</style>\n",
              "<table border=\"1\" class=\"dataframe\">\n",
              "  <thead>\n",
              "    <tr style=\"text-align: right;\">\n",
              "      <th></th>\n",
              "      <th>raceId</th>\n",
              "      <th>year</th>\n",
              "      <th>circuitId</th>\n",
              "      <th>driverId</th>\n",
              "      <th>constructorId</th>\n",
              "      <th>grid</th>\n",
              "      <th>positionOrder</th>\n",
              "    </tr>\n",
              "  </thead>\n",
              "  <tbody>\n",
              "    <tr>\n",
              "      <th>0</th>\n",
              "      <td>1</td>\n",
              "      <td>2009</td>\n",
              "      <td>1</td>\n",
              "      <td>18</td>\n",
              "      <td>23</td>\n",
              "      <td>1</td>\n",
              "      <td>1</td>\n",
              "    </tr>\n",
              "    <tr>\n",
              "      <th>1</th>\n",
              "      <td>1</td>\n",
              "      <td>2009</td>\n",
              "      <td>1</td>\n",
              "      <td>22</td>\n",
              "      <td>23</td>\n",
              "      <td>2</td>\n",
              "      <td>2</td>\n",
              "    </tr>\n",
              "    <tr>\n",
              "      <th>2</th>\n",
              "      <td>1</td>\n",
              "      <td>2009</td>\n",
              "      <td>1</td>\n",
              "      <td>15</td>\n",
              "      <td>7</td>\n",
              "      <td>20</td>\n",
              "      <td>3</td>\n",
              "    </tr>\n",
              "    <tr>\n",
              "      <th>3</th>\n",
              "      <td>1</td>\n",
              "      <td>2009</td>\n",
              "      <td>1</td>\n",
              "      <td>10</td>\n",
              "      <td>7</td>\n",
              "      <td>19</td>\n",
              "      <td>0</td>\n",
              "    </tr>\n",
              "    <tr>\n",
              "      <th>4</th>\n",
              "      <td>1</td>\n",
              "      <td>2009</td>\n",
              "      <td>1</td>\n",
              "      <td>4</td>\n",
              "      <td>4</td>\n",
              "      <td>10</td>\n",
              "      <td>0</td>\n",
              "    </tr>\n",
              "    <tr>\n",
              "      <th>...</th>\n",
              "      <td>...</td>\n",
              "      <td>...</td>\n",
              "      <td>...</td>\n",
              "      <td>...</td>\n",
              "      <td>...</td>\n",
              "      <td>...</td>\n",
              "      <td>...</td>\n",
              "    </tr>\n",
              "    <tr>\n",
              "      <th>26075</th>\n",
              "      <td>1110</td>\n",
              "      <td>2023</td>\n",
              "      <td>13</td>\n",
              "      <td>817</td>\n",
              "      <td>213</td>\n",
              "      <td>19</td>\n",
              "      <td>0</td>\n",
              "    </tr>\n",
              "    <tr>\n",
              "      <th>26076</th>\n",
              "      <td>1110</td>\n",
              "      <td>2023</td>\n",
              "      <td>13</td>\n",
              "      <td>858</td>\n",
              "      <td>3</td>\n",
              "      <td>18</td>\n",
              "      <td>0</td>\n",
              "    </tr>\n",
              "    <tr>\n",
              "      <th>26077</th>\n",
              "      <td>1110</td>\n",
              "      <td>2023</td>\n",
              "      <td>13</td>\n",
              "      <td>807</td>\n",
              "      <td>210</td>\n",
              "      <td>0</td>\n",
              "      <td>0</td>\n",
              "    </tr>\n",
              "    <tr>\n",
              "      <th>26078</th>\n",
              "      <td>1110</td>\n",
              "      <td>2023</td>\n",
              "      <td>13</td>\n",
              "      <td>832</td>\n",
              "      <td>6</td>\n",
              "      <td>4</td>\n",
              "      <td>0</td>\n",
              "    </tr>\n",
              "    <tr>\n",
              "      <th>26079</th>\n",
              "      <td>1110</td>\n",
              "      <td>2023</td>\n",
              "      <td>13</td>\n",
              "      <td>857</td>\n",
              "      <td>1</td>\n",
              "      <td>5</td>\n",
              "      <td>0</td>\n",
              "    </tr>\n",
              "  </tbody>\n",
              "</table>\n",
              "<p>26080 rows × 7 columns</p>\n",
              "</div>\n",
              "    <div class=\"colab-df-buttons\">\n",
              "\n",
              "  <div class=\"colab-df-container\">\n",
              "    <button class=\"colab-df-convert\" onclick=\"convertToInteractive('df-acad6573-4250-458b-a9a4-bda3d145a7ff')\"\n",
              "            title=\"Convert this dataframe to an interactive table.\"\n",
              "            style=\"display:none;\">\n",
              "\n",
              "  <svg xmlns=\"http://www.w3.org/2000/svg\" height=\"24px\" viewBox=\"0 -960 960 960\">\n",
              "    <path d=\"M120-120v-720h720v720H120Zm60-500h600v-160H180v160Zm220 220h160v-160H400v160Zm0 220h160v-160H400v160ZM180-400h160v-160H180v160Zm440 0h160v-160H620v160ZM180-180h160v-160H180v160Zm440 0h160v-160H620v160Z\"/>\n",
              "  </svg>\n",
              "    </button>\n",
              "\n",
              "  <style>\n",
              "    .colab-df-container {\n",
              "      display:flex;\n",
              "      gap: 12px;\n",
              "    }\n",
              "\n",
              "    .colab-df-convert {\n",
              "      background-color: #E8F0FE;\n",
              "      border: none;\n",
              "      border-radius: 50%;\n",
              "      cursor: pointer;\n",
              "      display: none;\n",
              "      fill: #1967D2;\n",
              "      height: 32px;\n",
              "      padding: 0 0 0 0;\n",
              "      width: 32px;\n",
              "    }\n",
              "\n",
              "    .colab-df-convert:hover {\n",
              "      background-color: #E2EBFA;\n",
              "      box-shadow: 0px 1px 2px rgba(60, 64, 67, 0.3), 0px 1px 3px 1px rgba(60, 64, 67, 0.15);\n",
              "      fill: #174EA6;\n",
              "    }\n",
              "\n",
              "    .colab-df-buttons div {\n",
              "      margin-bottom: 4px;\n",
              "    }\n",
              "\n",
              "    [theme=dark] .colab-df-convert {\n",
              "      background-color: #3B4455;\n",
              "      fill: #D2E3FC;\n",
              "    }\n",
              "\n",
              "    [theme=dark] .colab-df-convert:hover {\n",
              "      background-color: #434B5C;\n",
              "      box-shadow: 0px 1px 3px 1px rgba(0, 0, 0, 0.15);\n",
              "      filter: drop-shadow(0px 1px 2px rgba(0, 0, 0, 0.3));\n",
              "      fill: #FFFFFF;\n",
              "    }\n",
              "  </style>\n",
              "\n",
              "    <script>\n",
              "      const buttonEl =\n",
              "        document.querySelector('#df-acad6573-4250-458b-a9a4-bda3d145a7ff button.colab-df-convert');\n",
              "      buttonEl.style.display =\n",
              "        google.colab.kernel.accessAllowed ? 'block' : 'none';\n",
              "\n",
              "      async function convertToInteractive(key) {\n",
              "        const element = document.querySelector('#df-acad6573-4250-458b-a9a4-bda3d145a7ff');\n",
              "        const dataTable =\n",
              "          await google.colab.kernel.invokeFunction('convertToInteractive',\n",
              "                                                    [key], {});\n",
              "        if (!dataTable) return;\n",
              "\n",
              "        const docLinkHtml = 'Like what you see? Visit the ' +\n",
              "          '<a target=\"_blank\" href=https://colab.research.google.com/notebooks/data_table.ipynb>data table notebook</a>'\n",
              "          + ' to learn more about interactive tables.';\n",
              "        element.innerHTML = '';\n",
              "        dataTable['output_type'] = 'display_data';\n",
              "        await google.colab.output.renderOutput(dataTable, element);\n",
              "        const docLink = document.createElement('div');\n",
              "        docLink.innerHTML = docLinkHtml;\n",
              "        element.appendChild(docLink);\n",
              "      }\n",
              "    </script>\n",
              "  </div>\n",
              "\n",
              "\n",
              "<div id=\"df-0cd555ac-e61f-43a8-b424-e30c4c99ccec\">\n",
              "  <button class=\"colab-df-quickchart\" onclick=\"quickchart('df-0cd555ac-e61f-43a8-b424-e30c4c99ccec')\"\n",
              "            title=\"Suggest charts\"\n",
              "            style=\"display:none;\">\n",
              "\n",
              "<svg xmlns=\"http://www.w3.org/2000/svg\" height=\"24px\"viewBox=\"0 0 24 24\"\n",
              "     width=\"24px\">\n",
              "    <g>\n",
              "        <path d=\"M19 3H5c-1.1 0-2 .9-2 2v14c0 1.1.9 2 2 2h14c1.1 0 2-.9 2-2V5c0-1.1-.9-2-2-2zM9 17H7v-7h2v7zm4 0h-2V7h2v10zm4 0h-2v-4h2v4z\"/>\n",
              "    </g>\n",
              "</svg>\n",
              "  </button>\n",
              "\n",
              "<style>\n",
              "  .colab-df-quickchart {\n",
              "      --bg-color: #E8F0FE;\n",
              "      --fill-color: #1967D2;\n",
              "      --hover-bg-color: #E2EBFA;\n",
              "      --hover-fill-color: #174EA6;\n",
              "      --disabled-fill-color: #AAA;\n",
              "      --disabled-bg-color: #DDD;\n",
              "  }\n",
              "\n",
              "  [theme=dark] .colab-df-quickchart {\n",
              "      --bg-color: #3B4455;\n",
              "      --fill-color: #D2E3FC;\n",
              "      --hover-bg-color: #434B5C;\n",
              "      --hover-fill-color: #FFFFFF;\n",
              "      --disabled-bg-color: #3B4455;\n",
              "      --disabled-fill-color: #666;\n",
              "  }\n",
              "\n",
              "  .colab-df-quickchart {\n",
              "    background-color: var(--bg-color);\n",
              "    border: none;\n",
              "    border-radius: 50%;\n",
              "    cursor: pointer;\n",
              "    display: none;\n",
              "    fill: var(--fill-color);\n",
              "    height: 32px;\n",
              "    padding: 0;\n",
              "    width: 32px;\n",
              "  }\n",
              "\n",
              "  .colab-df-quickchart:hover {\n",
              "    background-color: var(--hover-bg-color);\n",
              "    box-shadow: 0 1px 2px rgba(60, 64, 67, 0.3), 0 1px 3px 1px rgba(60, 64, 67, 0.15);\n",
              "    fill: var(--button-hover-fill-color);\n",
              "  }\n",
              "\n",
              "  .colab-df-quickchart-complete:disabled,\n",
              "  .colab-df-quickchart-complete:disabled:hover {\n",
              "    background-color: var(--disabled-bg-color);\n",
              "    fill: var(--disabled-fill-color);\n",
              "    box-shadow: none;\n",
              "  }\n",
              "\n",
              "  .colab-df-spinner {\n",
              "    border: 2px solid var(--fill-color);\n",
              "    border-color: transparent;\n",
              "    border-bottom-color: var(--fill-color);\n",
              "    animation:\n",
              "      spin 1s steps(1) infinite;\n",
              "  }\n",
              "\n",
              "  @keyframes spin {\n",
              "    0% {\n",
              "      border-color: transparent;\n",
              "      border-bottom-color: var(--fill-color);\n",
              "      border-left-color: var(--fill-color);\n",
              "    }\n",
              "    20% {\n",
              "      border-color: transparent;\n",
              "      border-left-color: var(--fill-color);\n",
              "      border-top-color: var(--fill-color);\n",
              "    }\n",
              "    30% {\n",
              "      border-color: transparent;\n",
              "      border-left-color: var(--fill-color);\n",
              "      border-top-color: var(--fill-color);\n",
              "      border-right-color: var(--fill-color);\n",
              "    }\n",
              "    40% {\n",
              "      border-color: transparent;\n",
              "      border-right-color: var(--fill-color);\n",
              "      border-top-color: var(--fill-color);\n",
              "    }\n",
              "    60% {\n",
              "      border-color: transparent;\n",
              "      border-right-color: var(--fill-color);\n",
              "    }\n",
              "    80% {\n",
              "      border-color: transparent;\n",
              "      border-right-color: var(--fill-color);\n",
              "      border-bottom-color: var(--fill-color);\n",
              "    }\n",
              "    90% {\n",
              "      border-color: transparent;\n",
              "      border-bottom-color: var(--fill-color);\n",
              "    }\n",
              "  }\n",
              "</style>\n",
              "\n",
              "  <script>\n",
              "    async function quickchart(key) {\n",
              "      const quickchartButtonEl =\n",
              "        document.querySelector('#' + key + ' button');\n",
              "      quickchartButtonEl.disabled = true;  // To prevent multiple clicks.\n",
              "      quickchartButtonEl.classList.add('colab-df-spinner');\n",
              "      try {\n",
              "        const charts = await google.colab.kernel.invokeFunction(\n",
              "            'suggestCharts', [key], {});\n",
              "      } catch (error) {\n",
              "        console.error('Error during call to suggestCharts:', error);\n",
              "      }\n",
              "      quickchartButtonEl.classList.remove('colab-df-spinner');\n",
              "      quickchartButtonEl.classList.add('colab-df-quickchart-complete');\n",
              "    }\n",
              "    (() => {\n",
              "      let quickchartButtonEl =\n",
              "        document.querySelector('#df-0cd555ac-e61f-43a8-b424-e30c4c99ccec button');\n",
              "      quickchartButtonEl.style.display =\n",
              "        google.colab.kernel.accessAllowed ? 'block' : 'none';\n",
              "    })();\n",
              "  </script>\n",
              "</div>\n",
              "    </div>\n",
              "  </div>\n"
            ]
          },
          "metadata": {},
          "execution_count": 11
        }
      ]
    },
    {
      "cell_type": "code",
      "source": [
        "features = ['raceId', 'year', 'circuitId', 'driverId', 'constructorId', 'grid']\n",
        "target = ['positionOrder']"
      ],
      "metadata": {
        "id": "o_WOeJ9gS0x4"
      },
      "execution_count": null,
      "outputs": []
    },
    {
      "cell_type": "code",
      "source": [
        "x = df[features]\n",
        "y = df['positionOrder']"
      ],
      "metadata": {
        "id": "7FXFKDwhTKJF"
      },
      "execution_count": null,
      "outputs": []
    },
    {
      "cell_type": "code",
      "source": [
        "y_array = np.array(y)\n",
        "y_reshaped = y_array.reshape(-1, 1)\n",
        "encoder = OneHotEncoder(sparse=False)\n",
        "y_onehot = encoder.fit_transform(y_reshaped)"
      ],
      "metadata": {
        "colab": {
          "base_uri": "https://localhost:8080/"
        },
        "id": "M06FhIzoTSoM",
        "outputId": "443f8bf8-2119-4eaf-c770-ab116c02529f"
      },
      "execution_count": null,
      "outputs": [
        {
          "output_type": "stream",
          "name": "stderr",
          "text": [
            "/usr/local/lib/python3.10/dist-packages/sklearn/preprocessing/_encoders.py:868: FutureWarning: `sparse` was renamed to `sparse_output` in version 1.2 and will be removed in 1.4. `sparse_output` is ignored unless you leave `sparse` to its default value.\n",
            "  warnings.warn(\n"
          ]
        }
      ]
    },
    {
      "cell_type": "code",
      "source": [
        "x_onehot = encoder.fit_transform(x)"
      ],
      "metadata": {
        "colab": {
          "base_uri": "https://localhost:8080/"
        },
        "id": "3tdEXeM_Tokh",
        "outputId": "a86a4bd2-8505-4e79-abee-0acf924e2441"
      },
      "execution_count": null,
      "outputs": [
        {
          "output_type": "stream",
          "name": "stderr",
          "text": [
            "/usr/local/lib/python3.10/dist-packages/sklearn/preprocessing/_encoders.py:868: FutureWarning: `sparse` was renamed to `sparse_output` in version 1.2 and will be removed in 1.4. `sparse_output` is ignored unless you leave `sparse` to its default value.\n",
            "  warnings.warn(\n"
          ]
        }
      ]
    },
    {
      "cell_type": "code",
      "source": [
        "X_train, X_test, y_train, y_test = train_test_split(x_onehot, y_onehot, test_size=0.3,random_state=109)"
      ],
      "metadata": {
        "id": "yJnDHx3kTvIR"
      },
      "execution_count": null,
      "outputs": []
    },
    {
      "cell_type": "code",
      "source": [
        "\n",
        "model_01 = keras.Sequential([\n",
        " layers.Dense(64, activation=\"relu\"),\n",
        " layers.Dense(64, activation=\"relu\"),\n",
        " layers.Dense(64, activation=\"relu\"),\n",
        " layers.Dense(64, activation=\"relu\"),\n",
        " layers.Dense(64, activation=\"relu\"),\n",
        " layers.Dense(4, activation=\"softmax\")\n",
        "])\n"
      ],
      "metadata": {
        "id": "8HbmXaMDT9U8"
      },
      "execution_count": null,
      "outputs": []
    },
    {
      "cell_type": "code",
      "source": [
        "model_02 = keras.Sequential([\n",
        " layers.Dense(128, activation=\"relu\"),\n",
        " layers.Dense(128, activation=\"relu\"),\n",
        " layers.Dense(64, activation=\"relu\"),\n",
        " layers.Dense(64, activation=\"relu\"),\n",
        " layers.Dense(64, activation=\"relu\"),\n",
        " layers.Dense(4, activation=\"softmax\")\n",
        "])"
      ],
      "metadata": {
        "id": "Wb-Lsh23eM4T"
      },
      "execution_count": null,
      "outputs": []
    },
    {
      "cell_type": "code",
      "source": [
        "model = models.Sequential()\n",
        "model.add(layers.InputLayer(input_shape=(2343,)))\n",
        "model.add(layers.Dense(128, activation='relu'))\n",
        "model.add(BatchNormalization())\n",
        "model.add(layers.Dropout(0.5))\n",
        "model.add(layers.Dense(128, activation='relu'))\n",
        "model.add(BatchNormalization())\n",
        "model.add(layers.Dropout(0.5))\n",
        "model.add(layers.Dense(128, activation='relu'))\n",
        "model.add(BatchNormalization())\n",
        "model.add(layers.Dropout(0.5))  # Optional dropout layer for regularization\n",
        "model.add(layers.Dense(64, activation='relu'))\n",
        "model.add(BatchNormalization())\n",
        "model.add(layers.Dropout(0.5))\n",
        "model.add(layers.Dense(4, activation='softmax'))"
      ],
      "metadata": {
        "id": "LVUYntTwZJT5"
      },
      "execution_count": null,
      "outputs": []
    },
    {
      "cell_type": "code",
      "source": [
        "model.compile(optimizer=\"adam\",\n",
        " loss=\"categorical_crossentropy\",\n",
        " metrics=[\"accuracy\"])"
      ],
      "metadata": {
        "id": "IyMydapwUAt7"
      },
      "execution_count": null,
      "outputs": []
    },
    {
      "cell_type": "code",
      "source": [
        "model_01.compile(optimizer=\"adam\",\n",
        " loss=\"categorical_crossentropy\",\n",
        " metrics=[\"accuracy\"])"
      ],
      "metadata": {
        "id": "LbcH1iqzacND"
      },
      "execution_count": null,
      "outputs": []
    },
    {
      "cell_type": "code",
      "source": [
        "initial_learning_rate = 0.001\n",
        "lr_schedule = schedules.ExponentialDecay(\n",
        "    initial_learning_rate,\n",
        "    decay_steps=10000,\n",
        "    decay_rate=0.9,\n",
        "    staircase=True)"
      ],
      "metadata": {
        "id": "GSaxYW7ve2uv"
      },
      "execution_count": null,
      "outputs": []
    },
    {
      "cell_type": "code",
      "source": [
        "model_02.compile(optimizer=\"adam\",\n",
        " loss=\"categorical_crossentropy\",\n",
        " metrics=[\"accuracy\"])"
      ],
      "metadata": {
        "id": "CW9RY85beEXh"
      },
      "execution_count": null,
      "outputs": []
    },
    {
      "cell_type": "code",
      "source": [
        "history = model.fit(X_train, y_train, epochs=20, batch_size=512, validation_data=(X_test, y_test))"
      ],
      "metadata": {
        "colab": {
          "base_uri": "https://localhost:8080/"
        },
        "id": "Yf-bFFM8UR6S",
        "outputId": "a8bcc87f-bff0-48c2-b122-3f737e9186c6"
      },
      "execution_count": null,
      "outputs": [
        {
          "output_type": "stream",
          "name": "stdout",
          "text": [
            "Epoch 1/20\n",
            "36/36 [==============================] - 4s 52ms/step - loss: 2.0473 - accuracy: 0.3266 - val_loss: 1.0001 - val_accuracy: 0.8767\n",
            "Epoch 2/20\n",
            "36/36 [==============================] - 1s 40ms/step - loss: 1.5173 - accuracy: 0.4391 - val_loss: 0.7901 - val_accuracy: 0.8767\n",
            "Epoch 3/20\n",
            "36/36 [==============================] - 2s 56ms/step - loss: 1.2115 - accuracy: 0.5563 - val_loss: 0.6498 - val_accuracy: 0.8767\n",
            "Epoch 4/20\n",
            "36/36 [==============================] - 2s 69ms/step - loss: 0.9709 - accuracy: 0.6680 - val_loss: 0.5492 - val_accuracy: 0.8767\n",
            "Epoch 5/20\n",
            "36/36 [==============================] - 1s 39ms/step - loss: 0.8118 - accuracy: 0.7492 - val_loss: 0.5071 - val_accuracy: 0.8767\n",
            "Epoch 6/20\n",
            "36/36 [==============================] - 1s 36ms/step - loss: 0.6984 - accuracy: 0.7985 - val_loss: 0.4901 - val_accuracy: 0.8767\n",
            "Epoch 7/20\n",
            "36/36 [==============================] - 1s 36ms/step - loss: 0.6189 - accuracy: 0.8295 - val_loss: 0.4787 - val_accuracy: 0.8767\n",
            "Epoch 8/20\n",
            "36/36 [==============================] - 1s 36ms/step - loss: 0.5782 - accuracy: 0.8414 - val_loss: 0.4728 - val_accuracy: 0.8767\n",
            "Epoch 9/20\n",
            "36/36 [==============================] - 1s 36ms/step - loss: 0.5334 - accuracy: 0.8524 - val_loss: 0.4654 - val_accuracy: 0.8767\n",
            "Epoch 10/20\n",
            "36/36 [==============================] - 1s 40ms/step - loss: 0.5170 - accuracy: 0.8566 - val_loss: 0.4535 - val_accuracy: 0.8767\n",
            "Epoch 11/20\n",
            "36/36 [==============================] - 1s 36ms/step - loss: 0.4880 - accuracy: 0.8610 - val_loss: 0.4473 - val_accuracy: 0.8767\n",
            "Epoch 12/20\n",
            "36/36 [==============================] - 2s 51ms/step - loss: 0.4742 - accuracy: 0.8642 - val_loss: 0.4319 - val_accuracy: 0.8767\n",
            "Epoch 13/20\n",
            "36/36 [==============================] - 2s 57ms/step - loss: 0.4561 - accuracy: 0.8644 - val_loss: 0.4203 - val_accuracy: 0.8767\n",
            "Epoch 14/20\n",
            "36/36 [==============================] - 2s 45ms/step - loss: 0.4390 - accuracy: 0.8696 - val_loss: 0.4096 - val_accuracy: 0.8774\n",
            "Epoch 15/20\n",
            "36/36 [==============================] - 1s 40ms/step - loss: 0.4319 - accuracy: 0.8691 - val_loss: 0.4034 - val_accuracy: 0.8773\n",
            "Epoch 16/20\n",
            "36/36 [==============================] - 1s 36ms/step - loss: 0.4214 - accuracy: 0.8721 - val_loss: 0.3987 - val_accuracy: 0.8774\n",
            "Epoch 17/20\n",
            "36/36 [==============================] - 1s 35ms/step - loss: 0.4074 - accuracy: 0.8736 - val_loss: 0.3912 - val_accuracy: 0.8782\n",
            "Epoch 18/20\n",
            "36/36 [==============================] - 1s 36ms/step - loss: 0.4042 - accuracy: 0.8731 - val_loss: 0.3876 - val_accuracy: 0.8785\n",
            "Epoch 19/20\n",
            "36/36 [==============================] - 1s 37ms/step - loss: 0.4005 - accuracy: 0.8731 - val_loss: 0.3831 - val_accuracy: 0.8781\n",
            "Epoch 20/20\n",
            "36/36 [==============================] - 1s 36ms/step - loss: 0.3932 - accuracy: 0.8750 - val_loss: 0.3814 - val_accuracy: 0.8782\n"
          ]
        }
      ]
    },
    {
      "cell_type": "code",
      "source": [
        "history_01 = model_01.fit(X_train, y_train, epochs=20, batch_size=512, validation_data=(X_test, y_test))"
      ],
      "metadata": {
        "colab": {
          "base_uri": "https://localhost:8080/"
        },
        "id": "dQ2ed0sWY8-D",
        "outputId": "51aa04c3-f33b-4599-8ff6-0b10c28e9de8"
      },
      "execution_count": null,
      "outputs": [
        {
          "output_type": "stream",
          "name": "stdout",
          "text": [
            "Epoch 1/20\n",
            "36/36 [==============================] - 4s 30ms/step - loss: 0.8868 - accuracy: 0.8448 - val_loss: 0.4591 - val_accuracy: 0.8767\n",
            "Epoch 2/20\n",
            "36/36 [==============================] - 1s 22ms/step - loss: 0.4215 - accuracy: 0.8724 - val_loss: 0.3897 - val_accuracy: 0.8767\n",
            "Epoch 3/20\n",
            "36/36 [==============================] - 1s 21ms/step - loss: 0.3745 - accuracy: 0.8724 - val_loss: 0.3773 - val_accuracy: 0.8767\n",
            "Epoch 4/20\n",
            "36/36 [==============================] - 1s 21ms/step - loss: 0.3539 - accuracy: 0.8724 - val_loss: 0.3780 - val_accuracy: 0.8767\n",
            "Epoch 5/20\n",
            "36/36 [==============================] - 1s 20ms/step - loss: 0.3353 - accuracy: 0.8728 - val_loss: 0.3829 - val_accuracy: 0.8781\n",
            "Epoch 6/20\n",
            "36/36 [==============================] - 1s 21ms/step - loss: 0.3123 - accuracy: 0.8843 - val_loss: 0.4115 - val_accuracy: 0.8713\n",
            "Epoch 7/20\n",
            "36/36 [==============================] - 1s 23ms/step - loss: 0.2800 - accuracy: 0.8931 - val_loss: 0.4467 - val_accuracy: 0.8650\n",
            "Epoch 8/20\n",
            "36/36 [==============================] - 1s 34ms/step - loss: 0.2359 - accuracy: 0.9036 - val_loss: 0.5472 - val_accuracy: 0.8580\n",
            "Epoch 9/20\n",
            "36/36 [==============================] - 1s 37ms/step - loss: 0.1884 - accuracy: 0.9240 - val_loss: 0.7117 - val_accuracy: 0.8473\n",
            "Epoch 10/20\n",
            "36/36 [==============================] - 1s 37ms/step - loss: 0.1415 - accuracy: 0.9460 - val_loss: 0.9628 - val_accuracy: 0.8465\n",
            "Epoch 11/20\n",
            "36/36 [==============================] - 1s 21ms/step - loss: 0.1102 - accuracy: 0.9586 - val_loss: 1.0466 - val_accuracy: 0.8313\n",
            "Epoch 12/20\n",
            "36/36 [==============================] - 1s 21ms/step - loss: 0.0822 - accuracy: 0.9714 - val_loss: 1.2834 - val_accuracy: 0.8272\n",
            "Epoch 13/20\n",
            "36/36 [==============================] - 1s 21ms/step - loss: 0.0570 - accuracy: 0.9799 - val_loss: 1.5113 - val_accuracy: 0.8361\n",
            "Epoch 14/20\n",
            "36/36 [==============================] - 1s 19ms/step - loss: 0.0441 - accuracy: 0.9849 - val_loss: 1.6649 - val_accuracy: 0.8188\n",
            "Epoch 15/20\n",
            "36/36 [==============================] - 1s 20ms/step - loss: 0.0350 - accuracy: 0.9893 - val_loss: 1.8512 - val_accuracy: 0.8281\n",
            "Epoch 16/20\n",
            "36/36 [==============================] - 1s 21ms/step - loss: 0.0275 - accuracy: 0.9921 - val_loss: 1.9116 - val_accuracy: 0.8336\n",
            "Epoch 17/20\n",
            "36/36 [==============================] - 1s 21ms/step - loss: 0.0194 - accuracy: 0.9950 - val_loss: 2.0531 - val_accuracy: 0.8295\n",
            "Epoch 18/20\n",
            "36/36 [==============================] - 1s 22ms/step - loss: 0.0137 - accuracy: 0.9962 - val_loss: 2.1898 - val_accuracy: 0.8260\n",
            "Epoch 19/20\n",
            "36/36 [==============================] - 1s 20ms/step - loss: 0.0111 - accuracy: 0.9972 - val_loss: 2.2701 - val_accuracy: 0.8275\n",
            "Epoch 20/20\n",
            "36/36 [==============================] - 1s 20ms/step - loss: 0.0092 - accuracy: 0.9974 - val_loss: 2.3850 - val_accuracy: 0.8158\n"
          ]
        }
      ]
    },
    {
      "cell_type": "code",
      "source": [
        "early_stopping = EarlyStopping(monitor='val_loss', patience=5, restore_best_weights=True)\n"
      ],
      "metadata": {
        "id": "KJ6sD3_cgUcv"
      },
      "execution_count": null,
      "outputs": []
    },
    {
      "cell_type": "code",
      "source": [
        "history_02 = model_02.fit(X_train, y_train, epochs=20, batch_size=512, validation_data=(X_test, y_test), callbacks=[early_stopping])"
      ],
      "metadata": {
        "colab": {
          "base_uri": "https://localhost:8080/"
        },
        "id": "tf5OFfRBd958",
        "outputId": "469fd963-56a3-4209-84a6-18c3b3153637"
      },
      "execution_count": null,
      "outputs": [
        {
          "output_type": "stream",
          "name": "stdout",
          "text": [
            "Epoch 1/20\n",
            "36/36 [==============================] - 5s 40ms/step - loss: 0.7430 - accuracy: 0.8537 - val_loss: 0.4367 - val_accuracy: 0.8767\n",
            "Epoch 2/20\n",
            "36/36 [==============================] - 1s 29ms/step - loss: 0.3970 - accuracy: 0.8724 - val_loss: 0.3799 - val_accuracy: 0.8767\n",
            "Epoch 3/20\n",
            "36/36 [==============================] - 1s 28ms/step - loss: 0.3598 - accuracy: 0.8724 - val_loss: 0.3761 - val_accuracy: 0.8767\n",
            "Epoch 4/20\n",
            "36/36 [==============================] - 1s 28ms/step - loss: 0.3375 - accuracy: 0.8728 - val_loss: 0.3802 - val_accuracy: 0.8786\n",
            "Epoch 5/20\n",
            "36/36 [==============================] - 1s 28ms/step - loss: 0.3100 - accuracy: 0.8853 - val_loss: 0.3980 - val_accuracy: 0.8760\n",
            "Epoch 6/20\n",
            "36/36 [==============================] - 1s 28ms/step - loss: 0.2719 - accuracy: 0.8940 - val_loss: 0.4442 - val_accuracy: 0.8727\n",
            "Epoch 7/20\n",
            "36/36 [==============================] - 1s 33ms/step - loss: 0.2129 - accuracy: 0.9102 - val_loss: 0.5875 - val_accuracy: 0.8677\n",
            "Epoch 8/20\n",
            "36/36 [==============================] - 2s 48ms/step - loss: 0.1499 - accuracy: 0.9401 - val_loss: 0.8296 - val_accuracy: 0.8529\n"
          ]
        }
      ]
    },
    {
      "cell_type": "code",
      "source": [
        "scores = model_02.evaluate(X_test,\n",
        "y_test)\n",
        "print('Loss: %.3f' % scores[0])\n",
        "print('Accuracy: %.3f' % scores[1])"
      ],
      "metadata": {
        "colab": {
          "base_uri": "https://localhost:8080/"
        },
        "id": "J0UXe6KTEcFG",
        "outputId": "f2b58461-99b0-49fd-bd26-d26f51516de2"
      },
      "execution_count": null,
      "outputs": [
        {
          "output_type": "stream",
          "name": "stdout",
          "text": [
            "245/245 [==============================] - 1s 2ms/step - loss: 0.3761 - accuracy: 0.8767\n",
            "Loss: 0.376\n",
            "Accuracy: 0.877\n"
          ]
        }
      ]
    },
    {
      "cell_type": "code",
      "source": [
        "scores = model.evaluate(X_test,\n",
        "y_test)\n",
        "print('Loss: %.3f' % scores[0])\n",
        "print('Accuracy: %.3f' % scores[1])"
      ],
      "metadata": {
        "colab": {
          "base_uri": "https://localhost:8080/"
        },
        "id": "DRoRKi_UEtPs",
        "outputId": "346ab72e-34dd-40b4-f585-21ef6a8a9b5f"
      },
      "execution_count": null,
      "outputs": [
        {
          "output_type": "stream",
          "name": "stdout",
          "text": [
            "245/245 [==============================] - 1s 3ms/step - loss: 0.3761 - accuracy: 0.8791\n",
            "Loss: 0.376\n",
            "Accuracy: 0.879\n"
          ]
        }
      ]
    },
    {
      "cell_type": "code",
      "source": [
        "scores = model_01.evaluate(X_test,\n",
        "y_test)\n",
        "print('Loss: %.3f' % scores[0])\n",
        "print('Accuracy: %.3f' % scores[1])"
      ],
      "metadata": {
        "colab": {
          "base_uri": "https://localhost:8080/"
        },
        "id": "8C9tqFlJ6Al9",
        "outputId": "58c9b7e9-7d36-4c53-c9ae-b9a594288265"
      },
      "execution_count": null,
      "outputs": [
        {
          "output_type": "stream",
          "name": "stdout",
          "text": [
            "245/245 [==============================] - 1s 2ms/step - loss: 2.3850 - accuracy: 0.8158\n",
            "Loss: 2.385\n",
            "Accuracy: 0.816\n"
          ]
        }
      ]
    }
  ]
}